{
 "cells": [
  {
   "cell_type": "markdown",
   "id": "383526b9",
   "metadata": {},
   "source": [
    "# 🏁 F1 Dataset Overview\n",
    "\n",
    "This notebook provides an initial exploration of the Formula 1 World Championship dataset (1950–2020) from Kaggle.  \n",
    "We will inspect the structure, content, and relationships of the CSV files to guide further analysis and modeling.   on various\n",
    "The dataset includes information"
   ]
  },
  {
   "cell_type": "code",
   "execution_count": null,
   "id": "87f7a96d",
   "metadata": {},
   "outputs": [],
   "source": [
    "# 📦 Imports\n",
    "import pandas as pd\n",
    "from pathlib import Path\n",
    "\n",
    "# 📁 Dataset path\n",
    "DATA_DIR = Path(\"../data/raw/rohanrao_formula-1-world-championship-1950-2020\")"
   ]
  },
  {
   "cell_type": "code",
   "execution_count": null,
   "id": "753c7167",
   "metadata": {},
   "outputs": [],
   "source": [
    "# 📂 List all CSV files\n",
    "csv_files = sorted(DATA_DIR.glob(\"*.csv\"))\n",
    "\n",
    "print(f\"Found {len(csv_files)} CSV files:\")\n",
    "for f in csv_files:\n",
    "    print(\"•\", f.name)"
   ]
  },
  {
   "cell_type": "code",
   "execution_count": null,
   "id": "cae63a08",
   "metadata": {},
   "outputs": [],
   "source": [
    "# 🧾 Load all CSVs into memory\n",
    "dfs = {f.stem: pd.read_csv(f) for f in csv_files}"
   ]
  },
  {
   "cell_type": "code",
   "execution_count": null,
   "id": "81be4a67",
   "metadata": {},
   "outputs": [],
   "source": [
    "# 🔍 Display basic info on each table\n",
    "for name, df in dfs.items():\n",
    "    print(f\"\\n📄 {name.upper()} — shape: {df.shape}\")\n",
    "    display(df.head(3))"
   ]
  },
  {
   "cell_type": "code",
   "execution_count": 10,
   "id": "7c66ff4f",
   "metadata": {},
   "outputs": [
    {
     "name": "stdout",
     "output_type": "stream",
     "text": [
      "CIRCUITS: (77, 9)\n",
      "CONSTRUCTOR_RESULTS: (12625, 5)\n",
      "CONSTRUCTOR_STANDINGS: (13391, 7)\n",
      "CONSTRUCTORS: (212, 5)\n",
      "DRIVER_STANDINGS: (34863, 7)\n",
      "DRIVERS: (861, 9)\n",
      "LAP_TIMES: (589081, 6)\n",
      "PIT_STOPS: (11371, 7)\n",
      "QUALIFYING: (10494, 9)\n",
      "RACES: (1125, 18)\n",
      "RESULTS: (26759, 18)\n",
      "SEASONS: (75, 2)\n",
      "SPRINT_RESULTS: (360, 16)\n",
      "STATUS: (139, 2)\n"
     ]
    }
   ],
   "source": [
    "# 📊 Riepilogo degli shape delle tabelle\n",
    "for name, df in dfs.items():\n",
    "    print(f\"{name.upper()}: {df.shape}\")"
   ]
  },
  {
   "cell_type": "code",
   "execution_count": null,
   "id": "769f7dcf",
   "metadata": {},
   "outputs": [],
   "source": [
    "# 🧼 Null values per table\n",
    "for name, df in dfs.items():\n",
    "    nulls = df.isnull().sum()\n",
    "    if nulls.sum() > 0:\n",
    "        print(f\"\\n⚠️ {name.upper()} — Nulls:\")\n",
    "        print(nulls[nulls > 0])"
   ]
  }
 ],
 "metadata": {
  "kernelspec": {
   "display_name": "f1ml",
   "language": "python",
   "name": "python3"
  },
  "language_info": {
   "codemirror_mode": {
    "name": "ipython",
    "version": 3
   },
   "file_extension": ".py",
   "mimetype": "text/x-python",
   "name": "python",
   "nbconvert_exporter": "python",
   "pygments_lexer": "ipython3",
   "version": "3.11.11"
  }
 },
 "nbformat": 4,
 "nbformat_minor": 5
}
